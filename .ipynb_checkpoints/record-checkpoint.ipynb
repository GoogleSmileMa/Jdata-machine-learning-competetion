{
 "cells": [
  {
   "cell_type": "code",
   "execution_count": null,
   "metadata": {
    "collapsed": true,
    "deletable": true,
    "editable": true
   },
   "outputs": [],
   "source": [
    "# 京东JData算法大赛-高潜用户购买意向预测(04-16到04-20)\n",
    "# First, 定义清楚什么是高潜用户对于数据分析,特征抽取,以及之后的建立模型有着至关重要的作用\n",
    "# 1.必须有购买行为\n",
    "# 2.对一个商品购买和其他交互行为(浏览,点击,收藏等)时间差应该多于一天\n",
    "# 3.4-16前几天有添加购物车or收藏操作的用户"
   ]
  },
  {
   "cell_type": "code",
   "execution_count": null,
   "metadata": {
    "collapsed": true,
    "deletable": true,
    "editable": true
   },
   "outputs": [],
   "source": [
    "# data clean\n",
    "# delete the users who never buy\n",
    "df_usr = df_usr[df_usr['buy_num'] != 0]\n",
    "# delete the users who buy/browse approaches to 0 (惰性用户或爬虫用户)\n",
    "# 去掉只有购买记录的用户(没有可用的历史浏览等记录来预测用户将来的购买意向)"
   ]
  },
  {
   "cell_type": "code",
   "execution_count": 19,
   "metadata": {
    "collapsed": false,
    "deletable": true,
    "editable": true
   },
   "outputs": [
    {
     "data": {
      "image/png": "[encoded data removed]",
      "text/plain": [
       "<matplotlib.figure.Figure at 0x10dfef278>"
      ]
     },
     "metadata": {},
     "output_type": "display_data"
    }
   ],
   "source": [
    "#% matplotlib inline\n",
    "import func_pack\n",
    "import pandas as pd\n",
    "import matplotlib\n",
    "import matplotlib.pyplot as plt\n",
    "\n",
    "def filter_data(data):\n",
    "    data = data[data['type'] == 4]\n",
    "    return data[['user_id', 'sku_id', 'time']]\n",
    "data02 = func_pack.read_data_from_action(func_pack.file_action02)\n",
    "action = pd.DataFrame()\n",
    "action = action.append(filter_data(data02))\n",
    "action['time'] = pd.to_datetime(action['time']).apply(lambda x: x.day)\n",
    "\n",
    "df_user_count = action.groupby(['time'])['user_id'].nunique()\n",
    "df_user_count = df_user_count.to_frame().reset_index()\n",
    "df_user_count.columns = ['day', 'user_num']\n",
    "\n",
    "df_item = action.groupby('time')['sku_id'].nunique()\n",
    "df_item = df_item.to_frame().reset_index()\n",
    "df_item.columns = ['day', 'item_num']\n",
    "\n",
    "df_ui = action.groupby('time', as_index=False).size()\n",
    "df_ui = df_ui.to_frame().reset_index()\n",
    "df_ui.columns = ['day', 'user_item_num']\n",
    "\n",
    "# draw\n",
    "bar_width = 0.2\n",
    "opacity = 0.4\n",
    "# 天数\n",
    "# 设置图片大小\n",
    "# print(df_user_count)\n",
    "plt.figure(figsize=(15, 8))\n",
    "plt.bar(df_user_count['day'], df_user_count['user_num'], bar_width,\n",
    "        alpha=opacity, color='c', label='user')\n",
    "plt.bar(df_item['day'] + bar_width, df_item['item_num'],\n",
    "        bar_width, alpha=opacity, color='g', label='item')\n",
    "plt.bar(df_ui['day'] + bar_width * 2, df_ui['user_item_num'],\n",
    "        bar_width, alpha=opacity, color='m', label='user_item')\n",
    "plt.xlabel('day')\n",
    "plt.ylabel('number')\n",
    "plt.title('February Purchase Table')\n",
    "plt.show()"
   ]
  },
  {
   "cell_type": "code",
   "execution_count": null,
   "metadata": {
    "collapsed": true,
    "deletable": true,
    "editable": true
   },
   "outputs": [],
   "source": []
  }
 ],
 "metadata": {
  "kernelspec": {
   "display_name": "Python 3",
   "language": "python",
   "name": "python3"
  },
  "language_info": {
   "codemirror_mode": {
    "name": "ipython",
    "version": 3
   },
   "file_extension": ".py",
   "mimetype": "text/x-python",
   "name": "python",
   "nbconvert_exporter": "python",
   "pygments_lexer": "ipython3",
   "version": "3.5.1"
  }
 },
 "nbformat": 4,
 "nbformat_minor": 0
}
